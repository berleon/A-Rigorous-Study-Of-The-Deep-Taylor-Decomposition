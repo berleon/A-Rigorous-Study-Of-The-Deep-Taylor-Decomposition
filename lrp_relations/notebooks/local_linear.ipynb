{
 "cells": [
  {
   "cell_type": "markdown",
   "metadata": {},
   "source": [
    "# Local linear notebook\n",
    "\n",
    "\n",
    "* [local-linear-visualize]: visualize the linear segments over a 2D space\n",
    "* [local-linear-size]: compute the typical size of local linear segments\n",
    "* [local-linear-satisfy]: do the points of the local linear segments satisfy the condi-\n",
    "tions of root points?"
   ]
  },
  {
   "cell_type": "code",
   "execution_count": null,
   "metadata": {},
   "outputs": [],
   "source": [
    "%env CUDA_VISIBLE_DEVICES=\"\"\n",
    "%load_ext autoreload\n",
    "%autoreload 2\n",
    "\n",
    "from typing import Union, Callable\n",
    "\n",
    "import seaborn.apionly as sns\n",
    "import numpy as np\n",
    "import torch \n",
    "from torch import nn\n",
    "import matplotlib.pyplot as plt\n",
    "import pandas as pd\n",
    "import savethat\n",
    "\n",
    "from lrp_relations import local_linear, dtd, utils"
   ]
  },
  {
   "cell_type": "markdown",
   "metadata": {},
   "source": [
    "## [local-linear-visualize]: visualize the linear segments over a 2D space"
   ]
  },
  {
   "cell_type": "code",
   "execution_count": null,
   "metadata": {},
   "outputs": [],
   "source": [
    "# run sampling\n",
    "\n",
    "utils.set_project_dir()\n",
    "sample_grid = savethat.create_node(\n",
    "    local_linear.SampleGrid,\n",
    "    args=local_linear.SampleGridArgs(),\n",
    "    credentials=utils.get_credentials(),\n",
    ")\n",
    "grid = sample_grid.run()\n"
   ]
  },
  {
   "cell_type": "code",
   "execution_count": null,
   "metadata": {},
   "outputs": [],
   "source": [
    "grid.grads_logit_0.shape"
   ]
  },
  {
   "cell_type": "markdown",
   "metadata": {},
   "source": []
  },
  {
   "cell_type": "code",
   "execution_count": null,
   "metadata": {},
   "outputs": [],
   "source": [
    "grid_np = grid.grid.detach().numpy()\n",
    "for i in range(2):\n",
    "    plt.scatter(\n",
    "        grid_np[:, 0],\n",
    "        grid_np[:, 1],\n",
    "        # c=net(inputs).argmax(dim=1).numpy(),\n",
    "        # c=net(inputs)[:, 0].detach().numpy(),\n",
    "        c=grid.logits[:, i].detach().numpy(),\n",
    "    )\n",
    "    plt.colorbar()\n",
    "    plt.title(f\"Logit {i}\")\n",
    "    plt.show()"
   ]
  },
  {
   "cell_type": "code",
   "execution_count": null,
   "metadata": {},
   "outputs": [],
   "source": [
    "\n",
    "colors = np.array(sns.color_palette(\"colorblind\", 100))\n",
    "# print(colors)\n",
    "\n",
    "for grad in [grid.grads_logit_0, grid.grads_logit_1]:\n",
    "    grad_colors = dtd.almost_unique(grad, atol=1e-4)\n",
    "    # print(grad_colors.unique().shape)\n",
    "    plt.scatter(\n",
    "        grid_np[:, 0],\n",
    "        grid_np[:, 1],\n",
    "        c=colors[grad_colors.numpy() % len(colors)],\n",
    "        marker='.',\n",
    "        s=1,\n",
    "    )\n",
    "    plt.show()"
   ]
  },
  {
   "cell_type": "code",
   "execution_count": null,
   "metadata": {},
   "outputs": [],
   "source": [
    "torch.manual_seed(0)\n",
    "\n",
    "in_channels = 2\n",
    "x = torch.rand(1, in_channels).repeat(40, 1)\n",
    "mlp = dtd.NLayerMLP(5, in_channels, 20, 1)\n",
    "\n",
    "chain, accepts = local_linear.sample(mlp, x, n_steps=200, n_warmup=0)\n"
   ]
  }
 ],
 "metadata": {
  "language_info": {
   "name": "python"
  }
 },
 "nbformat": 4,
 "nbformat_minor": 2
}
