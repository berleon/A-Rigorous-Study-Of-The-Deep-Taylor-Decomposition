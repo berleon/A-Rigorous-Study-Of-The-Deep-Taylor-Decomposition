{
 "cells": [
  {
   "cell_type": "markdown",
   "metadata": {},
   "source": [
    "# Local linear notebook\n",
    "\n",
    "\n",
    "* [local-linear-visualize]: visualize the linear segments over a 2D space\n",
    "* [local-linear-size]: compute the typical size of local linear segments\n",
    "* [local-linear-satisfy]: do the points of the local linear segments satisfy the condi-\n",
    "tions of root points?"
   ]
  },
  {
   "cell_type": "code",
   "execution_count": null,
   "metadata": {
    "vscode": {
     "languageId": "python"
    }
   },
   "outputs": [],
   "source": [
    "%env CUDA_VISIBLE_DEVICES=\"\"\n",
    "%load_ext autoreload\n",
    "%autoreload 2\n",
    "\n",
    "from typing import Union, Callable\n",
    "\n",
    "import seaborn.apionly as sns\n",
    "import numpy as np\n",
    "import torch \n",
    "from torch import nn\n",
    "import matplotlib.pyplot as plt\n",
    "import pandas as pd\n",
    "import savethat\n",
    "\n",
    "from lrp_relations import local_linear, dtd, utils"
   ]
  },
  {
   "cell_type": "markdown",
   "metadata": {},
   "source": [
    "## [local-linear-visualize]: visualize the linear segments over a 2D space"
   ]
  },
  {
   "cell_type": "code",
   "execution_count": null,
   "metadata": {
    "vscode": {
     "languageId": "python"
    }
   },
   "outputs": [],
   "source": [
    "# run sampling\n",
    "\n",
    "utils.set_project_dir()\n",
    "sample_grid = savethat.create_node(\n",
    "    local_linear.SampleGrid,\n",
    "    args=local_linear.SampleGridArgs(),\n",
    "    credentials=utils.get_credentials(),\n",
    ")\n",
    "grid = sample_grid.run()\n"
   ]
  },
  {
   "cell_type": "code",
   "execution_count": null,
   "metadata": {
    "vscode": {
     "languageId": "python"
    }
   },
   "outputs": [],
   "source": [
    "grid.grads_logit_0.shape"
   ]
  },
  {
   "cell_type": "markdown",
   "metadata": {},
   "source": []
  },
  {
   "cell_type": "code",
   "execution_count": null,
   "metadata": {
    "vscode": {
     "languageId": "python"
    }
   },
   "outputs": [],
   "source": [
    "grid_np = grid.grid.detach().numpy()\n",
    "for i in range(2):\n",
    "    plt.scatter(\n",
    "        grid_np[:, 0],\n",
    "        grid_np[:, 1],\n",
    "        # c=net(inputs).argmax(dim=1).numpy(),\n",
    "        # c=net(inputs)[:, 0].detach().numpy(),\n",
    "        c=grid.logits[:, i].detach().numpy(),\n",
    "    )\n",
    "    plt.colorbar()\n",
    "    plt.title(f\"Logit {i}\")\n",
    "    plt.show()"
   ]
  },
  {
   "cell_type": "code",
   "execution_count": null,
   "metadata": {
    "vscode": {
     "languageId": "python"
    }
   },
   "outputs": [],
   "source": [
    "\n",
    "colors = np.array(sns.color_palette(\"colorblind\", 100))\n",
    "# print(colors)\n",
    "\n",
    "for grad in [grid.grads_logit_0, grid.grads_logit_1]:\n",
    "    grad_colors = dtd.almost_unique(grad, atol=1e-4)\n",
    "    # print(grad_colors.unique().shape)\n",
    "    plt.scatter(\n",
    "        grid_np[:, 0],\n",
    "        grid_np[:, 1],\n",
    "        c=colors[grad_colors.numpy() % len(colors)],\n",
    "        marker='.',\n",
    "        s=1,\n",
    "    )\n",
    "    plt.show()"
   ]
  },
  {
   "cell_type": "markdown",
   "metadata": {},
   "source": [
    "# Local Sampling"
   ]
  },
  {
   "cell_type": "code",
   "execution_count": null,
   "metadata": {
    "vscode": {
     "languageId": "python"
    }
   },
   "outputs": [],
   "source": [
    "torch.manual_seed(0)\n",
    "in_channels = 10\n",
    "mlp = dtd.NLayerMLP(5, in_channels, 25, 1)\n",
    "\n",
    "\n",
    "def weight_scale(m: nn.Module) -> None:\n",
    "    for p in m.parameters():\n",
    "        p.data[p.data > 0] = 1.2 * p.data[p.data > 0]\n",
    "    if isinstance(m, dtd.LinearReLU):\n",
    "        m.linear.bias.data = -m.linear.bias.data.abs()\n",
    "\n",
    "_ = mlp.apply(weight_scale)"
   ]
  },
  {
   "cell_type": "code",
   "execution_count": null,
   "metadata": {
    "vscode": {
     "languageId": "python"
    }
   },
   "outputs": [],
   "source": [
    "\n",
    "n_chains = 1000\n",
    "\n",
    "for i in range(1000):\n",
    "    torch.manual_seed(i)\n",
    "    x = 2 * torch.rand(1, in_channels).repeat(n_chains, 1) - 1\n",
    "    if (mlp(x) > 0).all():\n",
    "        break\n",
    "\n",
    "assert (mlp(x) > 0).all()\n",
    "\n",
    "sample_results = local_linear.sample(\n",
    "    mlp, x, n_steps=4_000, n_warmup=3000, grad_rtol=1e-5, grad_atol=1e-5\n",
    ")\n",
    "\n",
    "samples = sample_results.chain[-1]\n",
    "samples.requires_grad_(True)\n",
    "logits = mlp(samples)\n",
    "(grad,) = torch.autograd.grad(logits, samples, torch.ones_like(logits))\n",
    "\n",
    "print(grad.shape)\n",
    "\n",
    "assert torch.allclose(grad, sample_results.start_grad, rtol=1e-5, atol=1e-5)\n"
   ]
  },
  {
   "cell_type": "code",
   "execution_count": null,
   "metadata": {
    "vscode": {
     "languageId": "python"
    }
   },
   "outputs": [],
   "source": [
    "_ = plt.hist(logits.detach().numpy().flatten(), bins=50)"
   ]
  },
  {
   "cell_type": "code",
   "execution_count": null,
   "metadata": {
    "vscode": {
     "languageId": "python"
    }
   },
   "outputs": [],
   "source": [
    "chain_np = sample_results.chain.detach().numpy()\n",
    "# _ = plt.plot(chain_np[:, :, 0], chain_np[:, :, 1], '.', c='b', alpha=0.01)\n",
    "_ = plt.plot(chain_np[:, :, 0], chain_np[:, :, 1], alpha=1)"
   ]
  },
  {
   "cell_type": "code",
   "execution_count": null,
   "metadata": {
    "vscode": {
     "languageId": "python"
    }
   },
   "outputs": [],
   "source": [
    "plt.plot(sample_results.accept_ratio.numpy())\n",
    "ax = plt.twinx()\n",
    "ax.plot(sample_results.scaling.detach().numpy())\n",
    "ax.set_yscale('log')\n",
    "plt.show()"
   ]
  },
  {
   "cell_type": "code",
   "execution_count": null,
   "metadata": {
    "vscode": {
     "languageId": "python"
    }
   },
   "outputs": [],
   "source": [
    "_ = plt.hist(chain_np.flatten(), bins=100)"
   ]
  },
  {
   "cell_type": "code",
   "execution_count": null,
   "metadata": {
    "vscode": {
     "languageId": "python"
    }
   },
   "outputs": [],
   "source": []
  }
 ],
 "metadata": {
  "kernelspec": {
   "display_name": "Python 3.9 (LRP Relations)",
   "language": "python",
   "name": "lrp_py39"
  }
 },
 "nbformat": 4,
 "nbformat_minor": 2
}
