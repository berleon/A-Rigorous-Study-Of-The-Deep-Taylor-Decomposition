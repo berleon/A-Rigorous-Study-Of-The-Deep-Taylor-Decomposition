{
 "cells": [
  {
   "cell_type": "code",
   "execution_count": null,
   "metadata": {},
   "outputs": [],
   "source": [
    "import numpy as np\n",
    "\n",
    "import os\n",
    "import dataclasses"
   ]
  },
  {
   "cell_type": "markdown",
   "metadata": {},
   "source": []
  },
  {
   "cell_type": "code",
   "execution_count": null,
   "metadata": {},
   "outputs": [],
   "source": [
    "@dataclasses.dataclass(frozen=True)\n",
    "class LinearReLU:\n",
    "    w: np.ndarray\n",
    "    b: np.ndarray\n",
    "\n",
    "    def __call__(self, x):\n",
    "        return np.maximum(0, x @ self.w + self.b)"
   ]
  },
  {
   "cell_type": "code",
   "execution_count": null,
   "metadata": {},
   "outputs": [],
   "source": [
    "W = np.random.uniform(-1, 1, size=(1000, 2))\n",
    "all_zero = []\n",
    "for w in W:\n",
    "    relu = LinearReLU(w=w, b=0)\n",
    "\n",
    "    x = np.random.uniform(0, 1, size=(1000, 2))\n",
    "    y = relu(x)\n",
    "    all_zero.append(y.mean())\n",
    "\n",
    "all_zero = np.array(all_zero)"
   ]
  },
  {
   "cell_type": "code",
   "execution_count": null,
   "metadata": {},
   "outputs": [],
   "source": [
    "import matplotlib.pyplot as plt\n",
    "from lrp_relations import figures\n",
    "\n",
    "with figures.latexify():\n",
    "    plt.figure(figsize=figures.get_figure_size(0.3))\n",
    "    plt.scatter(\n",
    "        W[:, 0],\n",
    "        W[:, 1],\n",
    "        c=all_zero,\n",
    "        s=5,\n",
    "        cmap=\"coolwarm\",\n",
    "    )\n",
    "    plt.colorbar()\n",
    "    plt.gcf().set_dpi(300)\n"
   ]
  },
  {
   "cell_type": "code",
   "execution_count": null,
   "metadata": {},
   "outputs": [],
   "source": [
    "from lrp_relations import dtd\n",
    "import torch\n",
    "\n",
    "with_neg_biases = False"
   ]
  },
  {
   "cell_type": "code",
   "execution_count": null,
   "metadata": {},
   "outputs": [],
   "source": [
    "\n",
    "with_neg_biases = False\n",
    "\n",
    "if with_neg_biases:\n",
    "    torch.manual_seed(3)\n",
    "    mlp = dtd.MLP(3, 2, 10, 1)\n",
    "    mlp.init_weights()\n",
    "else:\n",
    "    torch.manual_seed(1)\n",
    "    mlp = dtd.MLP(3, 2, 10, 1)\n",
    "\n",
    "x = 20.0 * (2 * torch.rand(100000, 2, requires_grad=True) - 1)\n",
    "\n",
    "y = mlp(x)\n",
    "\n",
    "with figures.latexify():\n",
    "    plt.figure(figsize=figures.get_figure_size(0.3))\n",
    "    grad, = torch.autograd.grad(y.sum(), x)\n",
    "\n",
    "    plt.scatter(\n",
    "        x[:, 0].detach(),\n",
    "        x[:, 1].detach(),\n",
    "        c=y.detach().numpy(),\n",
    "        s=5,\n",
    "        cmap=\"coolwarm\",\n",
    "    )\n",
    "    plt.colorbar()\n",
    "    plt.gcf().set_dpi(300)\n"
   ]
  },
  {
   "cell_type": "code",
   "execution_count": null,
   "metadata": {},
   "outputs": [],
   "source": [
    "from lrp_relations.utils import to_np\n",
    "from lrp_relations import utils \n",
    "from sklearn.neighbors import NearestNeighbors\n",
    "grad_np = to_np(grad)\n",
    "\n",
    "\n",
    "nn = NearestNeighbors(n_neighbors=1, radius=1e-4, leaf_size=10)\n",
    "\n",
    "idx = 0\n",
    "nn_grads = []\n",
    "nn.fit(grad_np[:1])\n",
    "\n",
    "for grad_i in grad_np:\n",
    "    dist, neigh = nn.kneighbors(grad_i.reshape(1, -1))\n",
    "    if dist[0, 0] >= 1e-4:\n",
    "        nn_grads.append(grad_i)\n",
    "        nn = NearestNeighbors(n_neighbors=1, radius=1e-4, leaf_size=10)\n",
    "        nn.fit(np.stack(nn_grads))\n",
    "\n",
    "idx"
   ]
  },
  {
   "cell_type": "code",
   "execution_count": null,
   "metadata": {},
   "outputs": [],
   "source": [
    "idx = np.arange(len(nn_grads))\n",
    "np.random.shuffle(idx)\n",
    "with figures.latexify():\n",
    "    plt.figure(figsize=figures.get_figure_size(0.3, ratio=1))\n",
    "\n",
    "    plt.scatter(\n",
    "        x[:, 0].detach(),\n",
    "        x[:, 1].detach(),\n",
    "        c=idx[nn.kneighbors(grad_np, return_distance=False)],\n",
    "        # c=np.linalg.norm(grad_np, axis=1),\n",
    "        s=0.5,\n",
    "        cmap=\"rainbow\",\n",
    "    )\n",
    "    # plt.colorbar()\n",
    "    plt.gcf().set_dpi(300)\n"
   ]
  },
  {
   "cell_type": "code",
   "execution_count": null,
   "metadata": {},
   "outputs": [],
   "source": []
  },
  {
   "cell_type": "code",
   "execution_count": null,
   "metadata": {},
   "outputs": [],
   "source": [
    "idx = np.arange(len(nn_grads))\n",
    "np.random.seed(0)\n",
    "np.random.shuffle(idx)\n",
    "with figures.latexify():\n",
    "    plt.figure(figsize=figures.get_figure_size(0.24, ratio=1))\n",
    "\n",
    "    plt.scatter(\n",
    "        x[:, 0].detach(),\n",
    "        x[:, 1].detach(),\n",
    "        c=idx[nn.kneighbors(grad_np, return_distance=False)],\n",
    "        # c=np.linalg.norm(grad_np, axis=1),\n",
    "        s=0.5,\n",
    "        cmap=\"rainbow\",\n",
    "    )\n",
    "    subset = np.random.choice(len(x), size=400, replace=False)\n",
    "    plt.quiver(\n",
    "        x[subset, 0].detach(),\n",
    "        x[subset, 1].detach(),\n",
    "        grad_np[subset, 0],\n",
    "        grad_np[subset, 1],\n",
    "        scale_units=\"xy\",\n",
    "        scale=0.25 if with_neg_biases else 0.05,\n",
    "        color=\"k\",\n",
    "        width=0.002,\n",
    "        # headwidth=1,\n",
    "        # headlength=1,\n",
    "        # headaxislength=0,\n",
    "    )\n",
    "    # plt.colorbar()\n",
    "    plt.gcf().set_dpi(300)\n",
    "\n",
    "    os.makedirs(\"figures\", exist_ok=True)\n",
    "    if with_neg_biases: \n",
    "        figname = \"figures/mlp_2d_neg_biases.png\"\n",
    "    else:\n",
    "        figname = \"figures/mlp_2d_random_biases.png\"\n",
    "\n",
    "    plt.savefig(figname, bbox_inches=\"tight\", pad_inches=0.01, dpi=900)\n",
    "    print(f\"Saved {figname}\")\n",
    "    print(f\"cp {os.path.abspath(figname)} ./figures\")"
   ]
  },
  {
   "cell_type": "code",
   "execution_count": null,
   "metadata": {},
   "outputs": [],
   "source": []
  },
  {
   "cell_type": "code",
   "execution_count": null,
   "metadata": {},
   "outputs": [],
   "source": [
    "all_biases = [\n",
    "    (n, p)\n",
    "    for n, p in mlp.named_parameters()\n",
    "    if \"bias\" in n\n",
    "]\n",
    "\n",
    "all_biases"
   ]
  },
  {
   "cell_type": "code",
   "execution_count": null,
   "metadata": {},
   "outputs": [],
   "source": []
  },
  {
   "cell_type": "code",
   "execution_count": null,
   "metadata": {},
   "outputs": [],
   "source": []
  }
 ],
 "metadata": {
  "kernelspec": {
   "display_name": "Python 3.9.13 64-bit",
   "language": "python",
   "name": "python3"
  },
  "language_info": {
   "codemirror_mode": {
    "name": "ipython",
    "version": 3
   },
   "file_extension": ".py",
   "mimetype": "text/x-python",
   "name": "python",
   "nbconvert_exporter": "python",
   "pygments_lexer": "ipython3",
   "version": "3.9.13"
  },
  "vscode": {
   "interpreter": {
    "hash": "364ea4cd247a9314851a2e26e0d2a5938af3e08d71fd547ec79f80ae6e1a0fa6"
   }
  }
 },
 "nbformat": 4,
 "nbformat_minor": 2
}
