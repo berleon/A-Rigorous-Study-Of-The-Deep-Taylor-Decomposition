{
 "cells": [
  {
   "cell_type": "code",
   "execution_count": null,
   "metadata": {},
   "outputs": [],
   "source": [
    "%env CUDA_VISIBLE_DEVICES=\"\"\n",
    "\n",
    "import os\n",
    "import socket\n",
    "\n",
    "import captum.attr\n",
    "import pandas as pd\n",
    "import savethat\n",
    "import numpy as np\n",
    "import matplotlib.pyplot as plt\n",
    "import torch\n",
    "from tqdm.auto import tqdm\n",
    " \n",
    "from lrp_relations import sanity_checks, utils, train_clevr, data, lrp, gt_eval\n",
    "from relation_network import model as rel_model\n",
    " \n",
    "savethat.log.setup_logger()\n",
    "\n",
    "print(f\"Running on {socket.gethostname()}\")"
   ]
  },
  {
   "cell_type": "code",
   "execution_count": null,
   "metadata": {},
   "outputs": [],
   "source": [
    "storage = utils.get_storage()"
   ]
  },
  {
   "cell_type": "code",
   "execution_count": null,
   "metadata": {},
   "outputs": [],
   "source": [
    "runs = pd.DataFrame(storage.find_runs(\"Train\"))\n",
    "runs\n",
    "\n",
    "runs[runs.warmup_and_decay == True]"
   ]
  },
  {
   "cell_type": "code",
   "execution_count": null,
   "metadata": {},
   "outputs": [],
   "source": [
    "# key = \"Train_2022-05-18T19-17-45\"\n",
    "key = \"Train_2022-05-19T09-19-31\"  # trained on > 240 epochs\n",
    "\n",
    "print(list((storage / key / \"checkpoints\").glob(\"*.model\")))\n",
    "ckpt = list((storage / key / \"checkpoints\").glob(\"*.model\"))[-1]\n",
    "\n",
    "args = train_clevr.TrainArgs.from_json(storage / key / 'args.json')\n",
    "device = 'cpu'\n",
    "\n",
    "ckpt"
   ]
  },
  {
   "cell_type": "code",
   "execution_count": null,
   "metadata": {},
   "outputs": [],
   "source": [
    "model = rel_model.RelationNetworks(data.get_n_words())\n",
    "model.load_state_dict(torch.load(ckpt, map_location=device))"
   ]
  },
  {
   "cell_type": "code",
   "execution_count": null,
   "metadata": {},
   "outputs": [],
   "source": [
    "lrp_model = lrp.LRPViewOfRelationNetwork(model)"
   ]
  },
  {
   "cell_type": "code",
   "execution_count": null,
   "metadata": {},
   "outputs": [],
   "source": [
    "# dataloader = data.get_clevr_dataloader(utils.clevr_path(), split='val')\n",
    "\n",
    "# question_type, ground_truth = \"complex\", \"unique\"\n",
    "question_type, ground_truth = \"simple\", \"single_object\"\n",
    "dataloader = data.get_clevr_xai_loader(\n",
    "    question_type=question_type,\n",
    "    ground_truth=ground_truth,\n",
    "    batch_size=30,\n",
    "    n_worker=2,\n",
    ")\n",
    "\n",
    "dataset = dataloader.dataset"
   ]
  },
  {
   "cell_type": "code",
   "execution_count": null,
   "metadata": {},
   "outputs": [],
   "source": [
    "dataloader\n",
    "\n",
    "\n",
    "pbar = tqdm(dataloader)\n",
    "indices = []\n",
    "for i, (image, question, q_len, answer, idx) in enumerate(pbar):\n",
    "    image, question, q_len, answer = (\n",
    "        image.to(device),\n",
    "        question.to(device),\n",
    "        torch.tensor(q_len),\n",
    "        answer.to(device),\n",
    "    )\n",
    "    saliency = lrp_model.get_lrp_saliency(image, question, q_len, target=answer, normalize=False)\n",
    "\n",
    "    indices.extend(idx)\n",
    "    break"
   ]
  },
  {
   "cell_type": "code",
   "execution_count": null,
   "metadata": {},
   "outputs": [],
   "source": []
  },
  {
   "cell_type": "code",
   "execution_count": null,
   "metadata": {},
   "outputs": [],
   "source": [
    "def insert_newlines(string, every=64):\n",
    "    lines = []\n",
    "    for i in range(0, len(string), every):\n",
    "        lines.append(string[i : i + every])\n",
    "    return \"\\n\".join(lines)\n",
    "\n",
    "\n",
    "r = 6\n",
    "c = 6\n",
    "fig, axes = plt.subplots(r, c, figsize=(2 * c, 2 * r))\n",
    "\n",
    "ax_flat = axes.flatten()\n",
    "for i, (ax1, ax2, ax3) in enumerate(\n",
    "    zip(ax_flat[::3], ax_flat[1::3], ax_flat[2::3])\n",
    "):\n",
    "    dset_idx = indices[i]\n",
    "    question, answer = dataset.get_question_and_answer(dset_idx)\n",
    "    gt = dataset.get_ground_truth(dset_idx)\n",
    "\n",
    "    ax1.imshow(image[i].permute(1, 2, 0).cpu().detach().numpy() / 2 + 0.5)\n",
    "    ax1.set_title(\n",
    "        insert_newlines(question, every=40) + \"\\n\" + f\"Answer: {answer}\",\n",
    "        fontsize=6,\n",
    "    )\n",
    "    sal = saliency[i].cpu().detach().abs().numpy().sum(0)\n",
    "    q = np.percentile(sal, [99])\n",
    "    sal[sal > q] = q\n",
    "    im = ax2.imshow(sal, alpha=1.0)\n",
    "    fig.colorbar(im, ax=ax2)\n",
    "\n",
    "    gt_mask = gt.cpu().detach().numpy()\n",
    "    ax3.imshow(gt_mask, alpha=1.0)\n",
    "\n",
    "    sal_l2 = gt_eval.l2_norm_sq(saliency[i], dim=0).detach().cpu()\n",
    "    sal_max = gt_eval.max_norm(saliency[i], dim=0).cpu().detach().numpy()[0]\n",
    "\n",
    "    rel_mass = gt_eval.relevance_mass(sal_l2[0], gt, reduce=(0, 1))\n",
    "    ax2.set_title(\n",
    "        f\"rel. mass: {rel_mass.item():.3f}\\n\"\n",
    "        f\"rel. rank acc.: {gt_eval.get_ration_in_mask(sal_max, gt_mask):0.3f}\",\n",
    "        fontsize=6,\n",
    "    )\n",
    "\n",
    "\n",
    "for ax in ax_flat:\n",
    "    ax.set_xticks([])\n",
    "    ax.set_yticks([])\n",
    "\n",
    "fig.suptitle(f\"{key}@{ckpt.name}\\nGT: {question_type}@{ground_truth}\")\n",
    "fig.subplots_adjust(wspace=0.5, hspace=0.75)\n",
    "fig.set_dpi(90)\n"
   ]
  },
  {
   "cell_type": "code",
   "execution_count": null,
   "metadata": {},
   "outputs": [],
   "source": []
  },
  {
   "cell_type": "code",
   "execution_count": null,
   "metadata": {},
   "outputs": [],
   "source": []
  },
  {
   "cell_type": "code",
   "execution_count": null,
   "metadata": {},
   "outputs": [],
   "source": [
    "image.min()"
   ]
  },
  {
   "cell_type": "code",
   "execution_count": null,
   "metadata": {},
   "outputs": [],
   "source": [
    "import json\n",
    "\n",
    "with open(storage / key / \"checkpoints\" / \"log.jsonl\", \"r\") as f:\n",
    "    log = pd.DataFrame([json.loads(line) for line in f.readlines()])\n",
    "    print(log.columns)\n",
    "    log.drop(\"count\", axis=1, inplace=True)\n",
    "    log.set_index(\"epoch\", inplace=True)\n"
   ]
  },
  {
   "cell_type": "code",
   "execution_count": null,
   "metadata": {},
   "outputs": [],
   "source": [
    "log.plot()"
   ]
  },
  {
   "cell_type": "code",
   "execution_count": null,
   "metadata": {},
   "outputs": [],
   "source": []
  }
 ],
 "metadata": {
  "kernelspec": {
   "display_name": "Python 3.9.13 64-bit",
   "language": "python",
   "name": "python3"
  },
  "language_info": {
   "codemirror_mode": {
    "name": "ipython",
    "version": 3
   },
   "file_extension": ".py",
   "mimetype": "text/x-python",
   "name": "python",
   "nbconvert_exporter": "python",
   "pygments_lexer": "ipython3",
   "version": "3.9.13"
  },
  "vscode": {
   "interpreter": {
    "hash": "364ea4cd247a9314851a2e26e0d2a5938af3e08d71fd547ec79f80ae6e1a0fa6"
   }
  }
 },
 "nbformat": 4,
 "nbformat_minor": 2
}
