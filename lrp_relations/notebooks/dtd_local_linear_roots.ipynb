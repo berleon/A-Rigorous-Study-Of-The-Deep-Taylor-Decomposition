{
 "cells": [
  {
   "cell_type": "markdown",
   "metadata": {},
   "source": [
    "# Execute DTD-full-backward\n",
    "\n",
    "1. Get samples from local linear segment (store as $X_L$).\n",
    "2. For last layer, find which sample of $X_L$ would be a good root.\n",
    "3. Recursively, derive and find other roots."
   ]
  },
  {
   "cell_type": "code",
   "execution_count": null,
   "metadata": {},
   "outputs": [],
   "source": [
    "%env CUDA_VISIBLE_DEVICES=\"\"\n",
    "\n",
    "\n",
    "from typing import Union, Callable\n",
    "\n",
    "import torch \n",
    "import numpy as np\n",
    "import tqdm.auto\n",
    "from torch import nn\n",
    "import matplotlib.pyplot as plt\n",
    "import pandas as pd\n",
    "\n",
    "from lrp_relations import dtd\n",
    "from lrp_relations.utils import to_np\n"
   ]
  },
  {
   "cell_type": "code",
   "execution_count": null,
   "metadata": {},
   "outputs": [],
   "source": [
    "torch.manual_seed(0)\n",
    "mlp = dtd.MLP(5, 10, 10, 2)\n",
    "\n",
    "def weight_scale(m: nn.Module) -> nn.Module:\n",
    "    for p in m.parameters():\n",
    "        # to compensate for negative biases, we scale the weight\n",
    "        p.data[p.data > 0] = 1.4 * p.data[p.data > 0]\n",
    "    if isinstance(m, dtd.LinearReLU):\n",
    "        m.linear.bias.data = - m.linear.bias.data.abs() \n",
    "    return m\n",
    "\n",
    "mlp.apply(weight_scale)\n",
    "\n",
    "print(f\"the network has {sum(p.numel() for p in mlp.parameters())} parameters\")"
   ]
  },
  {
   "cell_type": "code",
   "execution_count": null,
   "metadata": {},
   "outputs": [],
   "source": [
    "x = torch.randn(11, 10)\n",
    "\n",
    "logits = mlp(x)\n",
    "logits"
   ]
  },
  {
   "cell_type": "code",
   "execution_count": null,
   "metadata": {},
   "outputs": [],
   "source": [
    "rule = \"z+\"\n",
    "explained_output = 0\n",
    "\n",
    "torch.manual_seed(0)\n",
    "for _ in tqdm.auto.trange(100, disable=True):\n",
    "    x = torch.randn(1, mlp.input_size)\n",
    "    if mlp(x)[:, explained_output] <= 0:\n",
    "        continue\n",
    "    break\n",
    "\n",
    "\n",
    "root_finder = dtd.LocalSegmentRoots(mlp, n_steps=200, n_warmup=10_000, show_progress=True,)\n",
    "\n",
    "network_output_fn = dtd.NetworkOutputRelevanceFn(\n",
    "    mlp, mlp.first_layer, explained_output\n",
    ")\n",
    "\n",
    "roots = root_finder.get_root_points_for_layer(\n",
    "    mlp.first_layer, x, relevance_fn=network_output_fn\n",
    ")"
   ]
  },
  {
   "cell_type": "code",
   "execution_count": null,
   "metadata": {},
   "outputs": [],
   "source": [
    "def get_grad(x: torch.Tensor) -> torch.Tensor:\n",
    "    x.requires_grad_(True)\n",
    "    out = mlp(x)\n",
    "    (grad_x,) = torch.autograd.grad(out[:, explained_output], x)\n",
    "    return grad_x\n",
    "\n",
    "\n",
    "root = roots[0]\n",
    "\n",
    "root_grad = get_grad(root.root)[0]\n",
    "input_grad = get_grad(root.input)[0]\n",
    "# root.root - root.input\n",
    "assert torch.allclose(root_grad, input_grad)\n",
    "\n",
    "mlp(root.root), mlp(root.input)\n",
    "\n",
    "\n",
    "mlp_root = mlp(root.root)[:, explained_output]\n",
    "mlp_input = mlp(root.input)[:, explained_output]\n",
    "\n",
    "taylor_approx = mlp_root + root_grad @ (root.input - root.root)[0]\n",
    "\n",
    "assert torch.allclose(taylor_approx, mlp_input, atol=1e-5)\n"
   ]
  },
  {
   "cell_type": "code",
   "execution_count": null,
   "metadata": {},
   "outputs": [],
   "source": [
    "import functools\n",
    "\n",
    "rel_fn_builder = functools.partial(dtd.DecomposeRelevanceFn, mlp, \n",
    "    root_finder=dtd.LocalSegmentRoots(\n",
    "        mlp, n_steps=2_000, n_chains=50, n_warmup=20_000, show_progress=True\n",
    "    ),\n",
    "    stabilize_grad=None,\n",
    ")\n",
    "\n",
    "rel_fn_builder"
   ]
  },
  {
   "cell_type": "code",
   "execution_count": null,
   "metadata": {},
   "outputs": [],
   "source": [
    "rel_fns = dtd.get_decompose_relevance_fns(\n",
    "    mlp,\n",
    "    explained_output=explained_output,\n",
    "    root_finder=dtd.LocalSegmentRoots(\n",
    "        mlp, n_steps=2_000, n_chains=50, n_warmup=20_000, show_progress=True\n",
    "    ),\n",
    "    decomposition=\"full\",\n",
    ")\n",
    "\n",
    "rel_fns[-2](x)"
   ]
  },
  {
   "cell_type": "code",
   "execution_count": null,
   "metadata": {},
   "outputs": [],
   "source": [
    "# run decomposition"
   ]
  }
 ],
 "metadata": {
  "kernelspec": {
   "display_name": "Python 3.9.12 64-bit",
   "language": "python",
   "name": "python3"
  },
  "language_info": {
   "codemirror_mode": {
    "name": "ipython",
    "version": 3
   },
   "file_extension": ".py",
   "mimetype": "text/x-python",
   "name": "python",
   "nbconvert_exporter": "python",
   "pygments_lexer": "ipython3",
   "version": "3.9.12"
  },
  "vscode": {
   "interpreter": {
    "hash": "364ea4cd247a9314851a2e26e0d2a5938af3e08d71fd547ec79f80ae6e1a0fa6"
   }
  }
 },
 "nbformat": 4,
 "nbformat_minor": 2
}
