{
 "cells": [
  {
   "cell_type": "code",
   "execution_count": null,
   "metadata": {},
   "outputs": [],
   "source": [
    "%env CUDA_VISIBLE_DEVICES=\"\"\n",
    "\n",
    "import torch \n",
    "from torch import nn\n",
    "from lrp_relations import dtd"
   ]
  },
  {
   "cell_type": "code",
   "execution_count": null,
   "metadata": {},
   "outputs": [],
   "source": [
    "torch.manual_seed(0)\n",
    "\n",
    "net = dtd.NLayerMLP(\n",
    "    n_layers=4,\n",
    "    input_size=5,\n",
    "    hidden_size=10,\n",
    "    output_size=2,\n",
    ")\n",
    "\n",
    "def weight_scale(m: nn.Module) -> nn.Module:\n",
    "    for p in m.parameters():\n",
    "        # to compensate for negative biases, we scale the weight\n",
    "        p.data[p.data > 0] = 1.2 * p.data[p.data > 0]\n",
    "    if isinstance(m, dtd.LinearReLU):\n",
    "        m.linear.bias.data = - m.linear.bias.data.abs() \n",
    "    return m\n",
    "\n",
    "net.apply(weight_scale)"
   ]
  },
  {
   "cell_type": "code",
   "execution_count": null,
   "metadata": {},
   "outputs": [],
   "source": [
    "torch.manual_seed(1)\n",
    "x = torch.rand(1, 5)\n",
    "\n",
    "explained_class = 0\n",
    "assert net(x)[:, explained_class] > 0\n",
    "precise_dtd = dtd.PreciseDTD(\n",
    "    net, x, explained_class=explained_class, rule=\"z+\", root_max_relevance=0.01\n",
    ")\n",
    "rel_input = precise_dtd.explain()"
   ]
  },
  {
   "cell_type": "code",
   "execution_count": null,
   "metadata": {},
   "outputs": [],
   "source": [
    "print(\"Logit:\", precise_dtd.get_output(net.layers[-1]))\n",
    "for layer, res in precise_dtd.results.items():\n",
    "    rel = precise_dtd.compute_relevance_of_input(\n",
    "        layer, res.root\n",
    "    )\n",
    "    print(\"-\" * 80)\n",
    "    print(res.layer_idx)\n",
    "    print('root', res.root)\n",
    "    print('rel. vec', rel)\n",
    "    print('rel. sum', rel.sum())"
   ]
  },
  {
   "cell_type": "code",
   "execution_count": null,
   "metadata": {},
   "outputs": [],
   "source": []
  }
 ],
 "metadata": {
  "kernelspec": {
   "display_name": "Python 3.9 (LRP Relations)",
   "language": "python",
   "name": "lrp_py39"
  },
  "language_info": {
   "codemirror_mode": {
    "name": "ipython",
    "version": 3
   },
   "file_extension": ".py",
   "mimetype": "text/x-python",
   "name": "python",
   "nbconvert_exporter": "python",
   "pygments_lexer": "ipython3",
   "version": "3.9.2"
  }
 },
 "nbformat": 4,
 "nbformat_minor": 2
}
